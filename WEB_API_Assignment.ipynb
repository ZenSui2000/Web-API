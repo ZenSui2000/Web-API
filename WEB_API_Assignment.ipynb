{
  "nbformat": 4,
  "nbformat_minor": 0,
  "metadata": {
    "colab": {
      "provenance": []
    },
    "kernelspec": {
      "name": "python3",
      "display_name": "Python 3"
    },
    "language_info": {
      "name": "python"
    }
  },
  "cells": [
    {
      "cell_type": "code",
      "execution_count": null,
      "metadata": {
        "id": "toLYqFN9yL_A"
      },
      "outputs": [],
      "source": [
        "Q1. What is an API? Give an example, where an API is used in real life.\n",
        "\n",
        "\n",
        "A1. An API, or Application Programming Interface, is a set of protocols, routines, and tools that allow different software applications to communicate with each other. APIs provide a standard way for applications to interact and exchange information, which makes it easier for developers to integrate different services and functionalities into their own applications.\n",
        "\n",
        "One real-life example of an API is the Google Maps API, which allows developers to embed Google Maps into their own applications and websites. By using the Google Maps API, developers can add maps and location-based features to their applications without having to build the maps themselves from scratch. This saves time and resources, and also ensures that the maps are accurate and up-to-date.\n",
        "\n",
        "Another example of an API is the Twitter API, which allows developers to access Twitter data and functionality, such as retrieving tweets,  and searching for tweets based on specific criteria. This API has been used to build a variety of Twitter-related applications, including social media monitoring tools, sentiment analysis tools, and Twitter bots\n",
        "\n",
        "\n",
        "Q2. Give advantages and disadvantages of using API ?\n",
        "\n",
        "\n",
        "A2. Increased efficiency: APIs can increase efficiency by allowing developers to reuse code and functionalities that have already been built by others.\n",
        "    This saves time and resources and can speed up the development process\n",
        "\n",
        "    Standardization: APIs provide a standardized way for\n",
        "    applications to communicate with each other, which makes it easier to integrate different services and functionalities into an application\n",
        "\n",
        "    Scalability: APIs can help to scale an application by allowing it to handle a large number of requests from different sources.\n",
        "    By separating the frontend from the backend, APIs enable developers to scale the backend independently of the frontend.\n",
        "\n",
        "Q3. What is a Web API? Differentiate between API and Web API ?\n",
        "\n",
        "\n",
        "A3. A Web API, or Web Application Programming Interface, is a type of API that is specifically designed to be used over the internet, using the HTTP protocol.\n",
        "    A Web API typically uses standard web technologies, such as XML or JSON, to format and transfer data.\n",
        "\n",
        "    The main difference between an API and a Web API is that an API is a more general term that can refer to any\n",
        "    type of interface that enables communication between different software systems, while a Web API specifically refers to an API that is accessed over the web using HTTP\n",
        "\n",
        "\n",
        "Q4. Explain REST and SOAP Architecture. Mention shortcomings of SOAP ?\n",
        "\n",
        "A4. REST is a lightweight and flexible architecture that uses HTTP protocols to access resources and transfer data in different formats, such as JSON or XML.\n",
        "    RESTful APIs have gained popularity due to their simplicity, scalability, and compatibility with various programming\n",
        "    languages and platforms. They follow a stateless client-server architecture where the server provides a set of URLs (Uniform Resource Locators) that can be accessed by clients to perform specific operations.\n",
        "\n",
        "Q5.Differentiate between REST and SOAP ?\n",
        "\n",
        "\n",
        "A5. REST (Representational State Transfer) and\n",
        "    SOAP (Simple Object Access Protocol) are two common architectures used for building web services. Here are some key differences between the two:\n",
        "\n",
        "    Data format: REST typically uses lightweight data formats like JSON or XML, while SOAP uses XML exclusively.\n",
        "\n",
        "    REST uses simple HTTP protocols for exchanging data, while SOAP uses a more complex messaging protocol that includes a message envelope, header, and body.\n",
        "\n",
        "    Scalability: REST is more scalable and easier to implement than SOAP due to its simpler message structure and statelessness.\n",
        "\n",
        "\n"
      ]
    }
  ]
}